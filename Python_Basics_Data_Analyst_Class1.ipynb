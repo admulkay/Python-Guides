{
  "nbformat": 4,
  "nbformat_minor": 0,
  "metadata": {
    "colab": {
      "provenance": [],
      "include_colab_link": true
    },
    "kernelspec": {
      "name": "python3",
      "display_name": "Python 3"
    },
    "language_info": {
      "name": "python"
    }
  },
  "cells": [
    {
      "cell_type": "markdown",
      "metadata": {
        "id": "view-in-github",
        "colab_type": "text"
      },
      "source": [
        "<a href=\"https://colab.research.google.com/github/admulkay/Python-Guides/blob/main/Python_Basics_Data_Analyst_Class1.ipynb\" target=\"_parent\"><img src=\"https://colab.research.google.com/assets/colab-badge.svg\" alt=\"Open In Colab\"/></a>"
      ]
    },
    {
      "cell_type": "code",
      "execution_count": null,
      "metadata": {
        "colab": {
          "base_uri": "https://localhost:8080/"
        },
        "id": "-FzJVNuuWt8X",
        "outputId": "9f476d0f-887e-4ce9-df4d-e0e60f1212c5"
      },
      "outputs": [
        {
          "output_type": "stream",
          "name": "stdout",
          "text": [
            "Welcome to Python !\n"
          ]
        }
      ],
      "source": [
        "# write a prohram to print welcome to python\n",
        "print(\"Welcome to Python !\")"
      ]
    },
    {
      "cell_type": "code",
      "source": [
        "#write a prog to print the sumation of 2 number\n",
        "num=200\n",
        "num1=2256.23\n",
        "#check the data type\n",
        "print(type(num))\n",
        "print(type(num1))\n",
        "result=num+num1\n",
        "print(result)\n",
        "print(\"the sum of 2 number is \",result)\n",
        "print(num ,\"+\",num1,\"=\",result)"
      ],
      "metadata": {
        "colab": {
          "base_uri": "https://localhost:8080/"
        },
        "id": "RWawKryGXNo1",
        "outputId": "76b9f5c1-c500-4c8a-cb0f-a05dddbafdd8"
      },
      "execution_count": null,
      "outputs": [
        {
          "output_type": "stream",
          "name": "stdout",
          "text": [
            "<class 'int'>\n",
            "<class 'float'>\n",
            "2456.23\n",
            "the sum of 2 number is  2456.23\n",
            "200 + 2256.23 = 2456.23\n"
          ]
        }
      ]
    },
    {
      "cell_type": "code",
      "source": [
        "#variable value will be dynamic\n",
        "#input(\"massage\") return the value as string\n",
        "num=input(\"Enter the number\")\n",
        "num1=input(\"Enter the number\")\n",
        "print(type(num))\n",
        "print(type(num1))\n",
        "result=num+num1\n",
        "print(result)"
      ],
      "metadata": {
        "colab": {
          "base_uri": "https://localhost:8080/"
        },
        "id": "LQVXBhf8YaQ_",
        "outputId": "991c8d11-fb1f-4a6b-9f44-fe0dbbf996d4"
      },
      "execution_count": null,
      "outputs": [
        {
          "output_type": "stream",
          "name": "stdout",
          "text": [
            "Enter the number150\n",
            "Enter the number1236\n",
            "<class 'str'>\n",
            "<class 'str'>\n",
            "1501236\n"
          ]
        }
      ]
    },
    {
      "cell_type": "code",
      "source": [
        "#convert the value from one datatype to another\n",
        "#convert str(string) to int\n",
        "num=int(input(\"Enter the number\")) #parse str to int\n",
        "num1=float(input(\"Enter the number\"))\n",
        "result=num+num1\n",
        "print(result)\n"
      ],
      "metadata": {
        "colab": {
          "base_uri": "https://localhost:8080/"
        },
        "id": "Wgs08nc-b7z4",
        "outputId": "49e7f636-b482-4f28-f38d-fd0bd6f97390"
      },
      "execution_count": null,
      "outputs": [
        {
          "output_type": "stream",
          "name": "stdout",
          "text": [
            "Enter the number123\n",
            "Enter the number6398\n",
            "6521.0\n"
          ]
        }
      ]
    },
    {
      "cell_type": "code",
      "source": [
        "#Matematical operators\n",
        "print(100+200)\n",
        "print(101/3)\n",
        "print(101//3) #returns only number without decimal\n",
        "print(100-80)\n",
        "print(2*3)\n",
        "print(5%3) #modulus\n",
        "print(2**3) #exponent 2multiply 3 times\n"
      ],
      "metadata": {
        "colab": {
          "base_uri": "https://localhost:8080/"
        },
        "id": "RUW67HDJcfYl",
        "outputId": "99ecd797-8612-4524-dfe1-d85fb3870019"
      },
      "execution_count": null,
      "outputs": [
        {
          "output_type": "stream",
          "name": "stdout",
          "text": [
            "300\n",
            "33.666666666666664\n",
            "33\n",
            "20\n",
            "6\n",
            "2\n",
            "8\n"
          ]
        }
      ]
    },
    {
      "cell_type": "code",
      "source": [
        "#if condition true do what false what to do\n",
        "#if <condtion>:\n",
        "#(five space or 1 tab indenttaion) stetment\n",
        "#else:\n",
        "#(five space or 1 tab indenttaion) stetment\n"
      ],
      "metadata": {
        "id": "Wh8wHG44dGae"
      },
      "execution_count": null,
      "outputs": []
    },
    {
      "cell_type": "code",
      "source": [
        "#WAP age>=18 eligble to vote\n",
        "age=10\n",
        "if age>=18:\n",
        "  print(\"Eligable to Vote\")\n",
        "else:\n",
        "  print('Grow up !')"
      ],
      "metadata": {
        "colab": {
          "base_uri": "https://localhost:8080/"
        },
        "id": "j2rXEmhadiM2",
        "outputId": "bc0aecf4-7ffe-4746-9d11-bdddd967e727"
      },
      "execution_count": null,
      "outputs": [
        {
          "output_type": "stream",
          "name": "stdout",
          "text": [
            "Grow up !\n"
          ]
        }
      ]
    },
    {
      "cell_type": "code",
      "source": [],
      "metadata": {
        "id": "L42C9CeWYHc2"
      },
      "execution_count": null,
      "outputs": []
    }
  ]
}